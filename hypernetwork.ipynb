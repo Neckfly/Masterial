{
 "cells": [
  {
   "cell_type": "code",
   "execution_count": 1,
   "id": "f99d3145",
   "metadata": {},
   "outputs": [],
   "source": [
    "import pandas as pd\n",
    "import numpy as np\n",
    "import torch\n",
    "from torch import nn\n",
    "from tqdm import trange\n",
    "from pymoo.factory import get_reference_directions\n",
    "from pymoo.factory import get_performance_indicator\n",
    "\n",
    "from phn import EPOSolver, LinearScalarizationSolver\n",
    "from phn.utils import *\n",
    "\n",
    "from transformer.Network import *"
   ]
  },
  {
   "cell_type": "code",
   "execution_count": 2,
   "id": "de8a514a",
   "metadata": {},
   "outputs": [],
   "source": [
    "no_cuda = True\n",
    "device = torch.device(\"cuda\" if torch.cuda.is_available() and not no_cuda else \"cpu\")"
   ]
  },
  {
   "cell_type": "code",
   "execution_count": 3,
   "id": "08dc22e7",
   "metadata": {},
   "outputs": [],
   "source": [
    "def circle_points(K, min_angle=None, max_angle=None):\n",
    "    # generate evenly distributed preference vector\n",
    "    ang0 = 1e-6 if min_angle is None else min_angle\n",
    "    ang1 = np.pi / 2 - ang0 if max_angle is None else max_angle\n",
    "    angles = np.linspace(ang0, ang1, K, endpoint=True)\n",
    "    x = np.cos(angles)\n",
    "    y = np.sin(angles)\n",
    "    return np.c_[x, y]"
   ]
  },
  {
   "cell_type": "code",
   "execution_count": 4,
   "id": "96fa6e0a",
   "metadata": {},
   "outputs": [],
   "source": [
    "@torch.no_grad()\n",
    "def evaluate(hypernet, targetnet, loader, rays, device, criterion):\n",
    "    hypernet.eval()\n",
    "    results = {\"ray\" : [], \"loss\" : []}\n",
    "    \n",
    "    for ray in rays:\n",
    "        ray = torch.from_numpy(ray.astype(np.float32)).to(device)\n",
    "\n",
    "        ray /= ray.sum()\n",
    "\n",
    "        full_losses = []\n",
    "        for batch in loader:\n",
    "            hypernet.zero_grad()\n",
    "\n",
    "            batch = (t.to(device) for t in batch)\n",
    "            X, Y = batch\n",
    "\n",
    "            weights = hypernet(ray)\n",
    "            \n",
    "            transferParameters(targetnet, weights)\n",
    "            \n",
    "            pred = targetnet(X)\n",
    "            pred = convertIntoBinary(pred)  # pred in 0 or 1\n",
    "\n",
    "            # Loss\n",
    "            curr_losses = criterion(pred, Y)\n",
    "            \n",
    "            # Metrics\n",
    "            ray = ray.squeeze(0)\n",
    "\n",
    "            # Losses\n",
    "            full_losses.append(curr_losses.detach().cpu().numpy())\n",
    "\n",
    "\n",
    "        results[\"ray\"].append(ray.cpu().numpy().tolist())\n",
    "        results[\"loss\"].append(np.array(full_losses).mean(0).tolist())\n",
    "        \n",
    "    hv = get_performance_indicator(\n",
    "        \"hv\",\n",
    "        ref_point=np.ones(\n",
    "            7,\n",
    "        ),\n",
    "    )\n",
    "    results[\"hv\"] = hv.do(np.array(results[\"loss\"]))\n",
    "\n",
    "    return results"
   ]
  },
  {
   "cell_type": "code",
   "execution_count": 5,
   "id": "03e695b3",
   "metadata": {},
   "outputs": [],
   "source": [
    "def train(net, loaders, criterions, solver_type: str, hidden_dim: int, no_val_eval: bool, no_test_eval: bool, alpha: float, \n",
    "          n_rays: int, epochs: int, lr: float, wd: float):\n",
    "    # ----\n",
    "    # Hypernetwork\n",
    "    # ----\n",
    "    hnet = HyperNet(ray_hidden_dim=hidden_dim, model=net)\n",
    "\n",
    "    net = net.to(device)\n",
    "    hnet = hnet.to(device)\n",
    "\n",
    "    optimizer = torch.optim.Adam(hnet.parameters(), lr=lr, weight_decay=wd)\n",
    "\n",
    "    # ------\n",
    "    # Solver\n",
    "    # ------\n",
    "    solvers = dict(ls=LinearScalarizationSolver, epo=EPOSolver)\n",
    "\n",
    "    solver_method = solvers[solver_type]\n",
    "    if solver_type == \"epo\":\n",
    "        nb_params = sum(p.numel() for p in hnet.parameters() if p.requires_grad)\n",
    "        solver = solver_method(n_tasks=2, n_params=nb_params)\n",
    "    else:\n",
    "        # ls\n",
    "        solver = solver_method(n_tasks=2)\n",
    "\n",
    "    # ----\n",
    "    # Data\n",
    "    # ----\n",
    "    train_loader = loaders['train_loader']\n",
    "    val_loader = loaders['val_loader']\n",
    "    test_loader = loaders['test_loader']\n",
    "    \n",
    "    # ----\n",
    "    # Losses\n",
    "    # ----\n",
    "    train_criterion = criterions['train_loss']\n",
    "    val_criterion = criterions['val_loss']\n",
    "    test_criterion = criterions['test_loss']\n",
    "    \n",
    "    # ----------\n",
    "    # Train loop\n",
    "    # ----------\n",
    "    epoch_iter = trange(epochs)\n",
    " \n",
    "    for epoch in epoch_iter:\n",
    "        for batch in train_loader:\n",
    "            hnet.train()\n",
    "            optimizer.zero_grad()\n",
    "            \n",
    "            X, Y = batch\n",
    "            X = X.to(device)\n",
    "            Y = Y.to(device)\n",
    "            \n",
    "            # Compute ray\n",
    "            if alpha > 0:\n",
    "                ray = torch.from_numpy(\n",
    "                    np.random.dirichlet([alpha] * 2, 1).astype(np.float32).flatten()\n",
    "                ).to(device)\n",
    "            else:\n",
    "                alpha = torch.empty(\n",
    "                    1,\n",
    "                ).uniform_(0.0, 1.0).item()\n",
    "                ray = torch.tensor([alpha, 1 - alpha]).to(device)\n",
    "   \n",
    "            weights = hnet(ray)  \n",
    "            \n",
    "            # Save model paramaters\n",
    "            params, parameter_names = save_model_parameters(net) \n",
    "            # This operation does not break the back propagation graph. \n",
    "            # But 'net.load_state_dict(weights)' will\n",
    "            transferParameters(net, weights) \n",
    "            \n",
    "            pred = net(X)\n",
    "            pred = convertIntoBinary(pred)  # pred in 0 or 1\n",
    "                  \n",
    "            losses = train_criterion(pred, Y)\n",
    "\n",
    "            ray = ray.squeeze(0)\n",
    "            # If you are not willingly using all of you layer, put allow_unused=True at line 78 in phn.solver.py\n",
    "            loss = solver(losses, ray, list(hnet.parameters()), feat=X, label=Y, model=net, weights=weights, \n",
    "                          criterion=train_criterion)       \n",
    "\n",
    "            # Load model paramaters\n",
    "            # We can't just use 'net.load_state_dict(weights)' because the state_dict is already empty\n",
    "            load_model_parameters(params, parameter_names, weights) \n",
    "\n",
    "            loss.backward()\n",
    "            optimizer.step()\n",
    "                    \n",
    "            epoch_iter.set_description(\n",
    "                f\"total weighted loss: {loss.item():.3f}\"\n",
    "                #f\", ray {ray.cpu().numpy().tolist()}\"\n",
    "            )          \n",
    "\n",
    "    min_angle = 0.1\n",
    "    max_angle = np.pi / 2 - 0.1\n",
    "    test_rays = circle_points(n_rays, min_angle=min_angle, max_angle=max_angle)\n",
    "    \n",
    "    results = dict()\n",
    "    if not no_val_eval:\n",
    "        eval_epoch_results = evaluate(\n",
    "            hypernet=hnet,\n",
    "            targetnet=net,\n",
    "            loader=val_loader,\n",
    "            rays=test_rays,\n",
    "            device=device,\n",
    "            criterion=val_criterion\n",
    "        )\n",
    "        results['val'] = eval_epoch_results\n",
    "    \n",
    "    if not no_test_eval:\n",
    "        test_epoch_results = evaluate(\n",
    "            hypernet=hnet,\n",
    "            targetnet=net,\n",
    "            loader=test_loader,\n",
    "            rays=test_rays,\n",
    "            device=device,\n",
    "            criterion=test_criterion\n",
    "        )\n",
    "        results['test'] = test_epoch_results\n",
    "    \n",
    "        \n",
    "    return net, results"
   ]
  },
  {
   "cell_type": "code",
   "execution_count": 6,
   "id": "ce327deb",
   "metadata": {},
   "outputs": [],
   "source": [
    "from experiments.multimnist.data import Dataset\n",
    "\n",
    "from phn.Hypernetwork import HyperNet"
   ]
  },
  {
   "cell_type": "code",
   "execution_count": 7,
   "id": "e89dcbd0",
   "metadata": {},
   "outputs": [],
   "source": [
    "df = pd.read_csv('data/pre_processed_dataset.csv')\n",
    "\n",
    "# Train = 0.6\n",
    "# Val = 0.1\n",
    "# Test = 0.3\n",
    "from sklearn.model_selection import train_test_split\n",
    "\n",
    "samplelist = df[\"Patient_ID\"].unique()\n",
    "training_samp, split_samp = train_test_split(samplelist, train_size=0.6, test_size=0.4, random_state=5, shuffle=True)\n",
    "validation_samp, test_samp = train_test_split(samplelist, train_size=0.25, test_size=0.75, random_state=5, shuffle=True)\n",
    "    \n",
    "train_df = df[df['Patient_ID'].isin(training_samp)]\n",
    "val_df = df[df['Patient_ID'].isin(validation_samp)]\n",
    "test_df = df[df['Patient_ID'].isin(test_samp)]"
   ]
  },
  {
   "cell_type": "code",
   "execution_count": 8,
   "id": "c50bf86a",
   "metadata": {},
   "outputs": [],
   "source": [
    "def splitDatasetPerPatient(dataset, window_size=6):\n",
    "    data = []\n",
    "    label = []\n",
    "\n",
    "    for patientId in dataset['Patient_ID'].unique():\n",
    "        tmp_data = dataset[dataset['Patient_ID'] == patientId]\n",
    "        if(len(tmp_data) >= window_size):\n",
    "            data.append(tmp_data.drop(['Hour', 'Patient_ID', 'SepsisLabel'], axis=1).to_numpy())\n",
    "            label.append(tmp_data['SepsisLabel'].to_numpy())\n",
    "            \n",
    "    return data, label"
   ]
  },
  {
   "cell_type": "code",
   "execution_count": 9,
   "id": "2cea0d16",
   "metadata": {},
   "outputs": [],
   "source": [
    "train_data, train_label = splitDatasetPerPatient(train_df)\n",
    "val_data, val_label = splitDatasetPerPatient(val_df)\n",
    "test_data, test_label = splitDatasetPerPatient(test_df)"
   ]
  },
  {
   "cell_type": "code",
   "execution_count": 10,
   "id": "2753c750",
   "metadata": {},
   "outputs": [],
   "source": [
    "def toTimeSeriesDataloader(feat, label, window_size=6):\n",
    "    data_labels = []\n",
    "\n",
    "    # One patient per batch\n",
    "    data_loader = []\n",
    "\n",
    "    for i in range(len(feat)):\n",
    "        patient_data = feat[i]\n",
    "        labels = label[i]\n",
    "        X_data = []\n",
    "        Y_data = []\n",
    "\n",
    "        for j in range(len(patient_data) - (window_size - 1)):\n",
    "            X_data.append(patient_data[j:(j + window_size)])\n",
    "            Y_data.append([labels[(j + window_size - 1)]])\n",
    "            data_labels.append(labels[(j + window_size - 1)])\n",
    "\n",
    "        data_loader.append([torch.Tensor(X_data), torch.Tensor(Y_data)])\n",
    "        \n",
    "    return data_loader, data_labels"
   ]
  },
  {
   "cell_type": "code",
   "execution_count": 11,
   "id": "16adef20",
   "metadata": {},
   "outputs": [],
   "source": [
    "train_loader, train_label_ts = toTimeSeriesDataloader(train_data, train_label)\n",
    "val_loader, val_label_ts = toTimeSeriesDataloader(val_data, val_label)\n",
    "test_loader, test_label_ts = toTimeSeriesDataloader(test_data, test_label)"
   ]
  },
  {
   "cell_type": "code",
   "execution_count": 12,
   "id": "92d2f425",
   "metadata": {},
   "outputs": [],
   "source": [
    "loaders = {'train_loader': train_loader, 'val_loader': val_loader, 'test_loader': test_loader}"
   ]
  },
  {
   "cell_type": "code",
   "execution_count": 13,
   "id": "12ba8037",
   "metadata": {},
   "outputs": [],
   "source": [
    "def convertIntoBinary(pred):\n",
    "    pred = nn.functional.sigmoid(pred) # pred in ]0, 1[\n",
    "    pred = nn.functional.threshold(pred, 0.5, 0.0) # pred in 0 or ]0.5, 1[\n",
    "    pred = torch.sub(torch.tensor(1.0), pred) # pred in ]0, 0.5[ or 1\n",
    "    pred = nn.functional.threshold(pred, 0.5, 0.0) # pred in 0 or 1 (reverted)\n",
    "    pred = torch.sub(torch.tensor(1.0), pred) # pred in 0 or 1\n",
    "    return pred"
   ]
  },
  {
   "cell_type": "code",
   "execution_count": 14,
   "id": "4b207621",
   "metadata": {},
   "outputs": [],
   "source": [
    "'''\n",
    "# Our old version => Specific to the transfomer\n",
    "def transferParameters(model, weights):  \n",
    "    for name in weights:\n",
    "        obj = model._modules\n",
    "        names = name.split('.')\n",
    "        index = 0\n",
    "\n",
    "        while(index < len(names) - 1):\n",
    "            if (obj.__class__.__name__ == 'OrderedDict'): # Dict\n",
    "                obj = obj[names[index]]\n",
    "            elif (obj.__class__.__name__ == 'ModuleList'): # List\n",
    "                obj = obj[int(names[index])]\n",
    "            else: # Object\n",
    "                obj = getattr(obj, names[index])\n",
    "\n",
    "            index += 1\n",
    "\n",
    "        if(names[index] == 'weight'):\n",
    "            del obj.weight           \n",
    "            obj.weight = weights[name]\n",
    "        elif(names[index] == 'bias'):\n",
    "            del obj.bias\n",
    "            obj.bias = weights[name]\n",
    "        elif(names[index] == 'pe'):\n",
    "            del obj.pe\n",
    "            obj.pe = weights[name]\n",
    "'''\n",
    "\n",
    "def transferParameters(model, weights):  \n",
    "    deleted_parameters = []\n",
    "    deleted_buffers = []\n",
    "    \n",
    "    for full_name, m in model.named_modules():\n",
    "        # Get parameters reference\n",
    "        for _, _ in m.named_parameters(recurse=False):\n",
    "            deleted_parameters.append((full_name, m))\n",
    "             \n",
    "        # Get buffers reference\n",
    "        for n, _ in m.named_buffers(recurse=False):\n",
    "            if (getattr(m, n).__class__.__name__ == 'Tensor'): # Maybe adding Linear or Parameter for some cases\n",
    "                deleted_buffers.append((full_name, n, m))\n",
    "\n",
    "        # Transfer parameters\n",
    "        for name, parameter in deleted_parameters:\n",
    "            del parameter.weight\n",
    "            parameter.weight = weights[name + '.weight']\n",
    "            if(parameter.bias != None):\n",
    "                del parameter.bias\n",
    "                parameter.bias = weights[name + '.bias']\n",
    "          \n",
    "        # Transfer buffers\n",
    "        for name, attribute, buffer in deleted_buffers:\n",
    "            delattr(buffer, attribute)\n",
    "            setattr(buffer, attribute, weights[name + '.' + attribute])"
   ]
  },
  {
   "cell_type": "code",
   "execution_count": 35,
   "id": "ae31d9f4",
   "metadata": {
    "scrolled": true
   },
   "outputs": [
    {
     "name": "stderr",
     "output_type": "stream",
     "text": [
      "total weighted loss: 1.386: 100%|██████████| 6/6 [5:08:14<00:00, 3082.38s/it]   \n",
      "total weighted loss: 1.386: 100%|██████████| 6/6 [5:10:46<00:00, 3107.82s/it]   \n",
      "total weighted loss: 2.627: 100%|██████████| 6/6 [5:13:16<00:00, 3132.71s/it]   \n"
     ]
    }
   ],
   "source": [
    "# Preference vector \n",
    "alphas = [45.0, 90.0, 180.0] \n",
    "\n",
    "# Output\n",
    "trained_nets = []\n",
    "results = []\n",
    "\n",
    "# Loss\n",
    "trainLossWeight = torch.tensor([train_label_ts.count(0) / train_label_ts.count(1)]).to(device)\n",
    "valLossWeight = torch.tensor([val_label_ts.count(0) / val_label_ts.count(1)]).to(device)\n",
    "testLossWeight = torch.tensor([test_label_ts.count(0) / test_label_ts.count(1)]).to(device)\n",
    "criterions = dict()\n",
    "criterions['train_loss'] = nn.BCEWithLogitsLoss(pos_weight = trainLossWeight)\n",
    "criterions['val_loss'] = nn.BCEWithLogitsLoss(pos_weight = valLossWeight)  \n",
    "criterions['test_loss'] = nn.BCEWithLogitsLoss(pos_weight = testLossWeight)  \n",
    "\n",
    "for alpha in alphas:\n",
    "    net = Transformer(dim_val=10, dim_attn=2, input_size=12, dec_seq_len=6, out_seq_len=1, \n",
    "                      n_decoder_layers=0, n_encoder_layers=4, n_heads=4)\n",
    "\n",
    "    trained_net, result = train(\n",
    "        net=net,\n",
    "        loaders=loaders,\n",
    "        criterions = criterions,\n",
    "        solver_type=\"epo\",       \n",
    "        hidden_dim=10, #100\n",
    "        no_val_eval=True,\n",
    "        no_test_eval=True,\n",
    "        alpha=alpha,\n",
    "        n_rays=20, #25\n",
    "        epochs=6,\n",
    "        lr=0.002,\n",
    "        wd=0.0\n",
    "    )\n",
    "    \n",
    "    trained_nets.append(trained_net)\n",
    "    results.append(result)"
   ]
  },
  {
   "cell_type": "markdown",
   "id": "0f6ae506",
   "metadata": {},
   "source": [
    "<h1> Score</h1>"
   ]
  },
  {
   "cell_type": "code",
   "execution_count": 26,
   "id": "5271e792",
   "metadata": {},
   "outputs": [],
   "source": [
    "load_result = False\n",
    "\n",
    "if load_result:\n",
    "    trained_nets = []\n",
    "    trained_nets.append(torch.load(\"weights/hn_0.0\", map_location=torch.device(device)))\n",
    "    trained_nets.append(torch.load(\"weights/hn_0.1\", map_location=torch.device(device)))\n",
    "    trained_nets.append(torch.load(\"weights/hn_0.2\", map_location=torch.device(device)))\n",
    "    trained_nets.append(torch.load(\"weights/hn_0.3\", map_location=torch.device(device)))\n",
    "    trained_nets.append(torch.load(\"weights/hn_0.4\", map_location=torch.device(device)))\n",
    "    trained_nets.append(torch.load(\"weights/hn_0.5\", map_location=torch.device(device)))\n",
    "    trained_nets.append(torch.load(\"weights/hn_0.6\", map_location=torch.device(device)))\n",
    "    trained_nets.append(torch.load(\"weights/hn_0.7\", map_location=torch.device(device)))\n",
    "    trained_nets.append(torch.load(\"weights/hn_0.8\", map_location=torch.device(device)))\n",
    "    trained_nets.append(torch.load(\"weights/hn_0.9\", map_location=torch.device(device)))\n",
    "    trained_nets.append(torch.load(\"weights/hn_1.0\", map_location=torch.device(device)))"
   ]
  },
  {
   "cell_type": "code",
   "execution_count": 36,
   "id": "e19c290f",
   "metadata": {},
   "outputs": [
    {
     "name": "stdout",
     "output_type": "stream",
     "text": [
      "BCEWithLogits loss:  tensor(1.3609, dtype=torch.float64)\n",
      "Physionet loss:  -0.030669046674600135\n",
      "sum of weights:  tensor(10168.8574)\n",
      "BCEWithLogits loss:  tensor(1.3609, dtype=torch.float64)\n",
      "Physionet loss:  -0.030669046674600135\n",
      "sum of weights:  tensor(11141.1660)\n",
      "BCEWithLogits loss:  tensor(1.5967, dtype=torch.float64)\n",
      "Physionet loss:  -9.497682430546403\n",
      "sum of weights:  tensor(9874.4316)\n"
     ]
    }
   ],
   "source": [
    "from metric import *\n",
    "\n",
    "BCEResult = []\n",
    "PhysionetLoss = []\n",
    "sumOfWeight = []\n",
    "\n",
    "testLossWeight = torch.tensor([test_label_ts.count(0) / test_label_ts.count(1)]).to(device)\n",
    "criterion = nn.BCEWithLogitsLoss(pos_weight = testLossWeight)\n",
    "\n",
    "for net in trained_nets:\n",
    "    test_preds = []\n",
    "    loss_preds = []\n",
    "    \n",
    "    for b in test_loader:\n",
    "        X, Y = b\n",
    "        X = X.to(device)\n",
    "        Y = Y.to(device)\n",
    "        \n",
    "        pred = net(X)\n",
    "        pred = convertIntoBinary(pred)  # pred in 0 or 1\n",
    "  \n",
    "        losses = criterion(pred, Y)\n",
    "        loss_preds = np.append(loss_preds, compute_prediction_utility(pred.detach().cpu().numpy().flatten(), Y))\n",
    "        \n",
    "        test_preds = np.append(test_preds, pred.detach().cpu().numpy().flatten())\n",
    "             \n",
    "    BCEResult.append(criterion(torch.tensor(test_preds).to(device), torch.tensor(test_label_ts).to(device)))\n",
    "    PhysionetLoss.append(sum(loss_preds) / len(loss_preds))\n",
    "    print(\"BCEWithLogits loss: \", BCEResult[-1])\n",
    "    print(\"Physionet loss: \", PhysionetLoss[-1])\n",
    "\n",
    "    res = torch.tensor(0.0)\n",
    "    for _, w in net.state_dict().items():\n",
    "        res = torch.add(res, w.abs().sum())\n",
    "\n",
    "    print(\"sum of weights: \", res)\n",
    "    sumOfWeight.append(res)"
   ]
  },
  {
   "cell_type": "code",
   "execution_count": 37,
   "id": "b94e36a3",
   "metadata": {},
   "outputs": [
    {
     "data": {
      "text/plain": [
       "[tensor(1.3609, dtype=torch.float64),\n",
       " tensor(1.3609, dtype=torch.float64),\n",
       " tensor(1.5967, dtype=torch.float64)]"
      ]
     },
     "execution_count": 37,
     "metadata": {},
     "output_type": "execute_result"
    }
   ],
   "source": [
    "BCEResult"
   ]
  },
  {
   "cell_type": "code",
   "execution_count": 38,
   "id": "c6581b42",
   "metadata": {},
   "outputs": [
    {
     "data": {
      "text/plain": [
       "[-0.030669046674600135, -0.030669046674600135, -9.497682430546403]"
      ]
     },
     "execution_count": 38,
     "metadata": {},
     "output_type": "execute_result"
    }
   ],
   "source": [
    "PhysionetLoss"
   ]
  },
  {
   "cell_type": "code",
   "execution_count": 39,
   "id": "ff545b48",
   "metadata": {},
   "outputs": [
    {
     "data": {
      "text/plain": [
       "[tensor(10168.8574), tensor(11141.1660), tensor(9874.4316)]"
      ]
     },
     "execution_count": 39,
     "metadata": {},
     "output_type": "execute_result"
    }
   ],
   "source": [
    "sumOfWeight"
   ]
  },
  {
   "cell_type": "code",
   "execution_count": null,
   "id": "e24b9b90",
   "metadata": {},
   "outputs": [],
   "source": []
  }
 ],
 "metadata": {
  "kernelspec": {
   "display_name": "Python 3 (ipykernel)",
   "language": "python",
   "name": "python3"
  },
  "language_info": {
   "codemirror_mode": {
    "name": "ipython",
    "version": 3
   },
   "file_extension": ".py",
   "mimetype": "text/x-python",
   "name": "python",
   "nbconvert_exporter": "python",
   "pygments_lexer": "ipython3",
   "version": "3.9.16"
  }
 },
 "nbformat": 4,
 "nbformat_minor": 5
}
